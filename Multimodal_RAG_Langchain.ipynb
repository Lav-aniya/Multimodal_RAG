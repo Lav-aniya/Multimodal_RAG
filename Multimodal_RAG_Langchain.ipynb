{
  "nbformat": 4,
  "nbformat_minor": 0,
  "metadata": {
    "colab": {
      "provenance": []
    },
    "kernelspec": {
      "name": "python3",
      "display_name": "Python 3"
    },
    "language_info": {
      "name": "python"
    }
  },
  "cells": [
    {
      "cell_type": "code",
      "execution_count": 2,
      "metadata": {
        "id": "QRlSEbQbA9Rj"
      },
      "outputs": [],
      "source": [
        "from google.colab import userdata\n",
        "groq_api = userdata.get('groq_api_key')"
      ]
    },
    {
      "cell_type": "code",
      "source": [],
      "metadata": {
        "id": "nX8oVH7GBKTC"
      },
      "execution_count": null,
      "outputs": []
    }
  ]
}